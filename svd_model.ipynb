{
 "cells": [
  {
   "cell_type": "code",
   "execution_count": 308,
   "metadata": {},
   "outputs": [],
   "source": [
    "%matplotlib inline\n",
    "import numpy as np\n",
    "import scipy as sp\n",
    "from scipy.stats.stats import pearsonr\n",
    "import matplotlib as mpl\n",
    "import matplotlib.cm as cm\n",
    "import matplotlib.pyplot as plt\n",
    "from matplotlib.colors import LogNorm\n",
    "import pandas as pd\n",
    "from sklearn.model_selection import train_test_split\n",
    "from sklearn.model_selection import GridSearchCV\n",
    "from sklearn.metrics import confusion_matrix\n",
    "from sklearn.preprocessing import StandardScaler\n",
    "from sklearn.linear_model import LogisticRegression\n",
    "from sklearn.metrics import roc_curve, auc\n",
    "\n",
    "import seaborn as sns\n",
    "sns.set_style()\n",
    "sns.set_context(\"talk\")\n",
    "import warnings\n",
    "warnings.filterwarnings(\"ignore\")\n",
    "\n",
    "import itertools"
   ]
  },
  {
   "cell_type": "code",
   "execution_count": 309,
   "metadata": {},
   "outputs": [
    {
     "data": {
      "text/plain": [
       "re.compile(r'<title>(.*)</title>', re.UNICODE)"
      ]
     },
     "execution_count": 309,
     "metadata": {},
     "output_type": "execute_result"
    }
   ],
   "source": [
    "import re\n",
    "re.compile('<title>(.*)</title>')"
   ]
  },
  {
   "cell_type": "code",
   "execution_count": 310,
   "metadata": {},
   "outputs": [],
   "source": [
    "# Please INSTALL this package if not already done\n",
    "#!pip install surprise"
   ]
  },
  {
   "cell_type": "code",
   "execution_count": 311,
   "metadata": {},
   "outputs": [],
   "source": [
    "import surprise\n",
    "from surprise import SVD\n",
    "from surprise import Dataset, Reader\n",
    "from surprise.model_selection import cross_validate, train_test_split"
   ]
  },
  {
   "cell_type": "markdown",
   "metadata": {},
   "source": [
    "#### 1. This is the rating prediction and similar restaurant recommendation part\n",
    "#### 2. We will use SVD for factorization, and SGD to find the optimal solution\n",
    "#### 3. To calculate similarity, we will use cosing similarity\n",
    "#### 4. Python's surprise package is used"
   ]
  },
  {
   "cell_type": "code",
   "execution_count": 312,
   "metadata": {},
   "outputs": [],
   "source": [
    "# Import the processed dataset\n",
    "dataset = pd.read_csv('review_and_business_data_cleaned_withdate.csv')"
   ]
  },
  {
   "cell_type": "code",
   "execution_count": 313,
   "metadata": {},
   "outputs": [],
   "source": [
    "first_model_df = dataset[['user_id', 'name', 'review_stars', 'categories']]"
   ]
  },
  {
   "cell_type": "code",
   "execution_count": 314,
   "metadata": {},
   "outputs": [],
   "source": [
    "# Processing the categories column"
   ]
  },
  {
   "cell_type": "code",
   "execution_count": 315,
   "metadata": {},
   "outputs": [
    {
     "data": {
      "text/html": [
       "<div>\n",
       "<style scoped>\n",
       "    .dataframe tbody tr th:only-of-type {\n",
       "        vertical-align: middle;\n",
       "    }\n",
       "\n",
       "    .dataframe tbody tr th {\n",
       "        vertical-align: top;\n",
       "    }\n",
       "\n",
       "    .dataframe thead th {\n",
       "        text-align: right;\n",
       "    }\n",
       "</style>\n",
       "<table border=\"1\" class=\"dataframe\">\n",
       "  <thead>\n",
       "    <tr style=\"text-align: right;\">\n",
       "      <th></th>\n",
       "      <th>user_id</th>\n",
       "      <th>name</th>\n",
       "      <th>review_stars</th>\n",
       "      <th>categories</th>\n",
       "    </tr>\n",
       "  </thead>\n",
       "  <tbody>\n",
       "    <tr>\n",
       "      <th>0</th>\n",
       "      <td>IMguz1Z9dp8HG0UfeLEdEg</td>\n",
       "      <td>Green World Cleaners</td>\n",
       "      <td>5.0</td>\n",
       "      <td>Dry Cleaning &amp; Laundry, Local Services, Laundr...</td>\n",
       "    </tr>\n",
       "    <tr>\n",
       "      <th>1</th>\n",
       "      <td>_TAVpa1Y2_5KZ5wWYeX_6g</td>\n",
       "      <td>Green World Cleaners</td>\n",
       "      <td>1.0</td>\n",
       "      <td>Dry Cleaning &amp; Laundry, Local Services, Laundr...</td>\n",
       "    </tr>\n",
       "    <tr>\n",
       "      <th>2</th>\n",
       "      <td>45R6BBybzwDuJaL08d1myQ</td>\n",
       "      <td>Green World Cleaners</td>\n",
       "      <td>5.0</td>\n",
       "      <td>Dry Cleaning &amp; Laundry, Local Services, Laundr...</td>\n",
       "    </tr>\n",
       "    <tr>\n",
       "      <th>3</th>\n",
       "      <td>lYvUtZWr1gGv4vlwNcJXDQ</td>\n",
       "      <td>Green World Cleaners</td>\n",
       "      <td>1.0</td>\n",
       "      <td>Dry Cleaning &amp; Laundry, Local Services, Laundr...</td>\n",
       "    </tr>\n",
       "    <tr>\n",
       "      <th>4</th>\n",
       "      <td>b0eCjnqua4C3f0OLDhZHxA</td>\n",
       "      <td>Green World Cleaners</td>\n",
       "      <td>1.0</td>\n",
       "      <td>Dry Cleaning &amp; Laundry, Local Services, Laundr...</td>\n",
       "    </tr>\n",
       "    <tr>\n",
       "      <th>...</th>\n",
       "      <td>...</td>\n",
       "      <td>...</td>\n",
       "      <td>...</td>\n",
       "      <td>...</td>\n",
       "    </tr>\n",
       "    <tr>\n",
       "      <th>679945</th>\n",
       "      <td>5RMr1Xn9qSfuGVZKI7g4rQ</td>\n",
       "      <td>Ignite Funding</td>\n",
       "      <td>1.0</td>\n",
       "      <td>Commercial Real Estate, Mortgage Brokers, Home...</td>\n",
       "    </tr>\n",
       "    <tr>\n",
       "      <th>679946</th>\n",
       "      <td>bjx0elc3ZZgsfsxP6JxROA</td>\n",
       "      <td>Ignite Funding</td>\n",
       "      <td>4.0</td>\n",
       "      <td>Commercial Real Estate, Mortgage Brokers, Home...</td>\n",
       "    </tr>\n",
       "    <tr>\n",
       "      <th>679947</th>\n",
       "      <td>jbdTkLBXvZ7MW-eQYz4Mew</td>\n",
       "      <td>Ignite Funding</td>\n",
       "      <td>4.0</td>\n",
       "      <td>Commercial Real Estate, Mortgage Brokers, Home...</td>\n",
       "    </tr>\n",
       "    <tr>\n",
       "      <th>679948</th>\n",
       "      <td>wvbPHizTJNz26s-xMO-vGw</td>\n",
       "      <td>Ignite Funding</td>\n",
       "      <td>1.0</td>\n",
       "      <td>Commercial Real Estate, Mortgage Brokers, Home...</td>\n",
       "    </tr>\n",
       "    <tr>\n",
       "      <th>679949</th>\n",
       "      <td>pN1U66zNpYL6gkbeOSqCrQ</td>\n",
       "      <td>Water Heater Pros</td>\n",
       "      <td>1.0</td>\n",
       "      <td>Contractors, Local Services, Appliances &amp; Repa...</td>\n",
       "    </tr>\n",
       "  </tbody>\n",
       "</table>\n",
       "<p>679950 rows × 4 columns</p>\n",
       "</div>"
      ],
      "text/plain": [
       "                       user_id                  name  review_stars  \\\n",
       "0       IMguz1Z9dp8HG0UfeLEdEg  Green World Cleaners           5.0   \n",
       "1       _TAVpa1Y2_5KZ5wWYeX_6g  Green World Cleaners           1.0   \n",
       "2       45R6BBybzwDuJaL08d1myQ  Green World Cleaners           5.0   \n",
       "3       lYvUtZWr1gGv4vlwNcJXDQ  Green World Cleaners           1.0   \n",
       "4       b0eCjnqua4C3f0OLDhZHxA  Green World Cleaners           1.0   \n",
       "...                        ...                   ...           ...   \n",
       "679945  5RMr1Xn9qSfuGVZKI7g4rQ        Ignite Funding           1.0   \n",
       "679946  bjx0elc3ZZgsfsxP6JxROA        Ignite Funding           4.0   \n",
       "679947  jbdTkLBXvZ7MW-eQYz4Mew        Ignite Funding           4.0   \n",
       "679948  wvbPHizTJNz26s-xMO-vGw        Ignite Funding           1.0   \n",
       "679949  pN1U66zNpYL6gkbeOSqCrQ     Water Heater Pros           1.0   \n",
       "\n",
       "                                               categories  \n",
       "0       Dry Cleaning & Laundry, Local Services, Laundr...  \n",
       "1       Dry Cleaning & Laundry, Local Services, Laundr...  \n",
       "2       Dry Cleaning & Laundry, Local Services, Laundr...  \n",
       "3       Dry Cleaning & Laundry, Local Services, Laundr...  \n",
       "4       Dry Cleaning & Laundry, Local Services, Laundr...  \n",
       "...                                                   ...  \n",
       "679945  Commercial Real Estate, Mortgage Brokers, Home...  \n",
       "679946  Commercial Real Estate, Mortgage Brokers, Home...  \n",
       "679947  Commercial Real Estate, Mortgage Brokers, Home...  \n",
       "679948  Commercial Real Estate, Mortgage Brokers, Home...  \n",
       "679949  Contractors, Local Services, Appliances & Repa...  \n",
       "\n",
       "[679950 rows x 4 columns]"
      ]
     },
     "execution_count": 315,
     "metadata": {},
     "output_type": "execute_result"
    }
   ],
   "source": [
    "first_model_df"
   ]
  },
  {
   "cell_type": "code",
   "execution_count": 316,
   "metadata": {},
   "outputs": [],
   "source": [
    "# =============== CATEGORY COLUMN CLEANING STARTS=============="
   ]
  },
  {
   "cell_type": "code",
   "execution_count": 317,
   "metadata": {},
   "outputs": [],
   "source": [
    "first_model_df[\"categories\"] = first_model_df['categories'].astype(str)"
   ]
  },
  {
   "cell_type": "code",
   "execution_count": 318,
   "metadata": {},
   "outputs": [],
   "source": [
    "category_string = []\n",
    "dict_cat = {}\n",
    "for i in range(len(first_model_df[\"categories\"].values)):\n",
    "        for j in range(len(first_model_df[\"categories\"].values[i].split(\",\"))):\n",
    "            \n",
    "            if first_model_df[\"categories\"].values[i].split(\",\")[j] not in dict_cat:\n",
    "                dict_cat[first_model_df[\"categories\"].values[i].split(\",\")[j]] = 1\n",
    "            else:\n",
    "                dict_cat[first_model_df[\"categories\"].values[i].split(\",\")[j]] += 1"
   ]
  },
  {
   "cell_type": "code",
   "execution_count": 319,
   "metadata": {},
   "outputs": [],
   "source": [
    "# Viewing the top repeated keywords"
   ]
  },
  {
   "cell_type": "code",
   "execution_count": 320,
   "metadata": {},
   "outputs": [
    {
     "data": {
      "text/plain": [
       "[(' Massage', 6975),\n",
       " (' Fitness & Instruction', 7241),\n",
       " ('Italian', 7291),\n",
       " ('Pizza', 7302),\n",
       " (' Diners', 7317),\n",
       " (' Chicken Wings', 7405),\n",
       " (' Ice Cream & Frozen Yogurt', 7413),\n",
       " ('Automotive', 7549),\n",
       " (' Thai', 7623),\n",
       " (' Mediterranean', 7630),\n",
       " ('Breakfast & Brunch', 7900),\n",
       " (' French', 7949),\n",
       " ('Japanese', 8070),\n",
       " (' Korean', 8183),\n",
       " ('Active Life', 8185),\n",
       " ('Mexican', 8288),\n",
       " (' Pubs', 8398),\n",
       " ('Sandwiches', 8442),\n",
       " ('Seafood', 8455),\n",
       " (' Home & Garden', 9052),\n",
       " ('Home Services', 9212),\n",
       " ('American (Traditional)', 9315),\n",
       " ('Hotels & Travel', 9328),\n",
       " (' Real Estate', 9386),\n",
       " ('Health & Medical', 9541),\n",
       " (' Soup', 9640),\n",
       " (' Wine Bars', 9783),\n",
       " (' Vegetarian', 9919),\n",
       " (' Waxing', 10161),\n",
       " (' Nail Salons', 10371),\n",
       " (' Auto Repair', 11015),\n",
       " (' Juice Bars & Smoothies', 11044),\n",
       " ('Bars', 11088),\n",
       " (' Local Flavor', 11186),\n",
       " (' Music Venues', 11363),\n",
       " (' Caterers', 11489),\n",
       " (' Professional Services', 11762),\n",
       " (' Skin Care', 11773),\n",
       " (' Sports Bars', 11966),\n",
       " (' Venues & Event Spaces', 12036),\n",
       " (' Doctors', 12125),\n",
       " ('Event Planning & Services', 12335),\n",
       " ('American (New)', 12396),\n",
       " (' Bakeries', 12586),\n",
       " (' Dance Clubs', 12602),\n",
       " ('Shopping', 12692),\n",
       " (' Beer', 12738),\n",
       " (' Vegan', 12769),\n",
       " ('Beauty & Spas', 12778),\n",
       " (' Hair Removal', 12845),\n",
       " (' Performing Arts', 13021),\n",
       " (' Barbeque', 13377),\n",
       " (' Fashion', 13392),\n",
       " (' Hair Salons', 13492),\n",
       " (' Cafes', 13752),\n",
       " (' Wine & Spirits', 14562),\n",
       " (' Resorts', 14723),\n",
       " (' Day Spas', 15160),\n",
       " (' Specialty Food', 15782),\n",
       " (' Fast Food', 17275),\n",
       " (' Buffets', 17999),\n",
       " (' Chinese', 18781),\n",
       " (' Sushi Bars', 19883),\n",
       " (' Cocktail Bars', 20245),\n",
       " (' Salad', 20405),\n",
       " (' Pizza', 21173),\n",
       " (' Lounges', 21233),\n",
       " ('Arts & Entertainment', 22322),\n",
       " (' Italian', 22517),\n",
       " (' Coffee & Tea', 22587),\n",
       " (' Automotive', 22649),\n",
       " (' Local Services', 22746),\n",
       " (' Steakhouses', 22836),\n",
       " (' Asian Fusion', 23484),\n",
       " (' Active Life', 23839),\n",
       " (' Mexican', 24050),\n",
       " (' Desserts', 24717),\n",
       " ('Food', 26218),\n",
       " (' Burgers', 26226),\n",
       " ('Nightlife', 26449),\n",
       " (' Sandwiches', 26667),\n",
       " (' Japanese', 27286),\n",
       " (' Seafood', 29115),\n",
       " (' Health & Medical', 29190),\n",
       " (' Home Services', 30841),\n",
       " (' Casinos', 41572),\n",
       " (' Beauty & Spas', 43763),\n",
       " (' Hotels', 46045),\n",
       " (' American (New)', 52309),\n",
       " (' Shopping', 53161),\n",
       " (' American (Traditional)', 55023),\n",
       " (' Breakfast & Brunch', 56093),\n",
       " (' Hotels & Travel', 61899),\n",
       " (' Arts & Entertainment', 65097),\n",
       " (' Event Planning & Services', 73256),\n",
       " ('Restaurants', 87711),\n",
       " (' Bars', 96074),\n",
       " (' Nightlife', 101555),\n",
       " (' Food', 108975),\n",
       " (' Restaurants', 272029)]"
      ]
     },
     "execution_count": 320,
     "metadata": {},
     "output_type": "execute_result"
    }
   ],
   "source": [
    "sorted(dict_cat.items(), key=lambda x: x[1])[-100:]"
   ]
  },
  {
   "cell_type": "code",
   "execution_count": 321,
   "metadata": {},
   "outputs": [
    {
     "data": {
      "text/plain": [
       "(679950, 4)"
      ]
     },
     "execution_count": 321,
     "metadata": {},
     "output_type": "execute_result"
    }
   ],
   "source": [
    "first_model_df.shape"
   ]
  },
  {
   "cell_type": "code",
   "execution_count": 322,
   "metadata": {},
   "outputs": [
    {
     "data": {
      "text/plain": [
       "(421003, 4)"
      ]
     },
     "execution_count": 322,
     "metadata": {},
     "output_type": "execute_result"
    }
   ],
   "source": [
    "#Check the reduced dataset shape\n",
    "first_model_df[first_model_df['categories'].str.contains(\"Italian|Pizza|Diners|Chicken|Yogurt|Thai|Mediterranean|Breakfast|Brunch|French|Japanese|Korean|Mexican|Pubs|Sandwich|Seafood|Soup|Wine|Bars|Vegetarian|Juice|Flavor|Baker|Beer|Vegan|Barbeque|Cafe|Food|Buffet|Chinese|Sushi|Salad|Pizza|Italian|Coffee|Tea|Steak|Dessert|Burger|Sandwich|Restaurant\", flags=re.IGNORECASE, regex=True)].shape"
   ]
  },
  {
   "cell_type": "code",
   "execution_count": 323,
   "metadata": {},
   "outputs": [],
   "source": [
    "# Assigning the new dataframe as the main DF\n",
    "first_model_df = first_model_df[first_model_df['categories'].str.contains(\"Italian|Pizza|Diners|Chicken|Yogurt|Thai|Mediterranean|Breakfast|Brunch|French|Japanese|Korean|Mexican|Pubs|Sandwich|Seafood|Soup|Wine|Bars|Vegetarian|Juice|Flavor|Baker|Beer|Vegan|Barbeque|Cafe|Food|Buffet|Chinese|Sushi|Salad|Pizza|Italian|Coffee|Tea|Steak|Dessert|Burger|Sandwich|Restaurant\", flags=re.IGNORECASE, regex=True)]"
   ]
  },
  {
   "cell_type": "code",
   "execution_count": 324,
   "metadata": {},
   "outputs": [
    {
     "data": {
      "text/html": [
       "<div>\n",
       "<style scoped>\n",
       "    .dataframe tbody tr th:only-of-type {\n",
       "        vertical-align: middle;\n",
       "    }\n",
       "\n",
       "    .dataframe tbody tr th {\n",
       "        vertical-align: top;\n",
       "    }\n",
       "\n",
       "    .dataframe thead th {\n",
       "        text-align: right;\n",
       "    }\n",
       "</style>\n",
       "<table border=\"1\" class=\"dataframe\">\n",
       "  <thead>\n",
       "    <tr style=\"text-align: right;\">\n",
       "      <th></th>\n",
       "      <th>user_id</th>\n",
       "      <th>name</th>\n",
       "      <th>review_stars</th>\n",
       "      <th>categories</th>\n",
       "    </tr>\n",
       "  </thead>\n",
       "  <tbody>\n",
       "    <tr>\n",
       "      <th>58</th>\n",
       "      <td>-xDW3gYiYaoeVASXywTPgw</td>\n",
       "      <td>Mama Napoli Pizza</td>\n",
       "      <td>5.0</td>\n",
       "      <td>Food, Food Trucks, Restaurants, Pizza</td>\n",
       "    </tr>\n",
       "    <tr>\n",
       "      <th>60</th>\n",
       "      <td>OE5MNd5PVORXxcrHEoWPdA</td>\n",
       "      <td>Taco Bell</td>\n",
       "      <td>1.0</td>\n",
       "      <td>Fast Food, Restaurants</td>\n",
       "    </tr>\n",
       "    <tr>\n",
       "      <th>61</th>\n",
       "      <td>7S2wwOSVSRn4CEZdtQKG_Q</td>\n",
       "      <td>Taco Bell</td>\n",
       "      <td>4.0</td>\n",
       "      <td>Fast Food, Restaurants</td>\n",
       "    </tr>\n",
       "    <tr>\n",
       "      <th>62</th>\n",
       "      <td>IRMEgNiP4IMRqw8i00ZMug</td>\n",
       "      <td>Taco Bell</td>\n",
       "      <td>5.0</td>\n",
       "      <td>Fast Food, Restaurants</td>\n",
       "    </tr>\n",
       "    <tr>\n",
       "      <th>63</th>\n",
       "      <td>XUEwSGOGARxW-3gPiGJKUg</td>\n",
       "      <td>Taco Bell</td>\n",
       "      <td>4.0</td>\n",
       "      <td>Fast Food, Restaurants</td>\n",
       "    </tr>\n",
       "    <tr>\n",
       "      <th>...</th>\n",
       "      <td>...</td>\n",
       "      <td>...</td>\n",
       "      <td>...</td>\n",
       "      <td>...</td>\n",
       "    </tr>\n",
       "    <tr>\n",
       "      <th>679933</th>\n",
       "      <td>Wv99UnS1Cpr__vRbo_v9YQ</td>\n",
       "      <td>Habaneros Taco Grill</td>\n",
       "      <td>1.0</td>\n",
       "      <td>Mexican, Fast Food, Restaurants, Tacos</td>\n",
       "    </tr>\n",
       "    <tr>\n",
       "      <th>679934</th>\n",
       "      <td>rB1mNFQTe-TPDsk8I3PpqA</td>\n",
       "      <td>Zest - Bistro &amp; Bar</td>\n",
       "      <td>4.0</td>\n",
       "      <td>American (New), Karaoke, Restaurants, Lounges,...</td>\n",
       "    </tr>\n",
       "    <tr>\n",
       "      <th>679935</th>\n",
       "      <td>5LqcnK9OC3UTIicsT0iv8g</td>\n",
       "      <td>Zest - Bistro &amp; Bar</td>\n",
       "      <td>5.0</td>\n",
       "      <td>American (New), Karaoke, Restaurants, Lounges,...</td>\n",
       "    </tr>\n",
       "    <tr>\n",
       "      <th>679936</th>\n",
       "      <td>jS5ICHrBOyo8LFvyLjtkqw</td>\n",
       "      <td>Zest - Bistro &amp; Bar</td>\n",
       "      <td>5.0</td>\n",
       "      <td>American (New), Karaoke, Restaurants, Lounges,...</td>\n",
       "    </tr>\n",
       "    <tr>\n",
       "      <th>679937</th>\n",
       "      <td>EKo8XUd9hhJKk7jBsCbZQg</td>\n",
       "      <td>Zest - Bistro &amp; Bar</td>\n",
       "      <td>5.0</td>\n",
       "      <td>American (New), Karaoke, Restaurants, Lounges,...</td>\n",
       "    </tr>\n",
       "  </tbody>\n",
       "</table>\n",
       "<p>421003 rows × 4 columns</p>\n",
       "</div>"
      ],
      "text/plain": [
       "                       user_id                  name  review_stars  \\\n",
       "58      -xDW3gYiYaoeVASXywTPgw     Mama Napoli Pizza           5.0   \n",
       "60      OE5MNd5PVORXxcrHEoWPdA             Taco Bell           1.0   \n",
       "61      7S2wwOSVSRn4CEZdtQKG_Q             Taco Bell           4.0   \n",
       "62      IRMEgNiP4IMRqw8i00ZMug             Taco Bell           5.0   \n",
       "63      XUEwSGOGARxW-3gPiGJKUg             Taco Bell           4.0   \n",
       "...                        ...                   ...           ...   \n",
       "679933  Wv99UnS1Cpr__vRbo_v9YQ  Habaneros Taco Grill           1.0   \n",
       "679934  rB1mNFQTe-TPDsk8I3PpqA   Zest - Bistro & Bar           4.0   \n",
       "679935  5LqcnK9OC3UTIicsT0iv8g   Zest - Bistro & Bar           5.0   \n",
       "679936  jS5ICHrBOyo8LFvyLjtkqw   Zest - Bistro & Bar           5.0   \n",
       "679937  EKo8XUd9hhJKk7jBsCbZQg   Zest - Bistro & Bar           5.0   \n",
       "\n",
       "                                               categories  \n",
       "58                  Food, Food Trucks, Restaurants, Pizza  \n",
       "60                                 Fast Food, Restaurants  \n",
       "61                                 Fast Food, Restaurants  \n",
       "62                                 Fast Food, Restaurants  \n",
       "63                                 Fast Food, Restaurants  \n",
       "...                                                   ...  \n",
       "679933             Mexican, Fast Food, Restaurants, Tacos  \n",
       "679934  American (New), Karaoke, Restaurants, Lounges,...  \n",
       "679935  American (New), Karaoke, Restaurants, Lounges,...  \n",
       "679936  American (New), Karaoke, Restaurants, Lounges,...  \n",
       "679937  American (New), Karaoke, Restaurants, Lounges,...  \n",
       "\n",
       "[421003 rows x 4 columns]"
      ]
     },
     "execution_count": 324,
     "metadata": {},
     "output_type": "execute_result"
    }
   ],
   "source": [
    "first_model_df"
   ]
  },
  {
   "cell_type": "code",
   "execution_count": 325,
   "metadata": {},
   "outputs": [],
   "source": [
    "# =============== CATEGORY COLUMN CLEANING ENDS=============="
   ]
  },
  {
   "cell_type": "code",
   "execution_count": 326,
   "metadata": {},
   "outputs": [],
   "source": [
    "# Drop nulls\n",
    "first_model_df.dropna(inplace = True)"
   ]
  },
  {
   "cell_type": "code",
   "execution_count": 327,
   "metadata": {},
   "outputs": [
    {
     "data": {
      "text/html": [
       "<div>\n",
       "<style scoped>\n",
       "    .dataframe tbody tr th:only-of-type {\n",
       "        vertical-align: middle;\n",
       "    }\n",
       "\n",
       "    .dataframe tbody tr th {\n",
       "        vertical-align: top;\n",
       "    }\n",
       "\n",
       "    .dataframe thead th {\n",
       "        text-align: right;\n",
       "    }\n",
       "</style>\n",
       "<table border=\"1\" class=\"dataframe\">\n",
       "  <thead>\n",
       "    <tr style=\"text-align: right;\">\n",
       "      <th></th>\n",
       "      <th>review_stars</th>\n",
       "    </tr>\n",
       "  </thead>\n",
       "  <tbody>\n",
       "    <tr>\n",
       "      <th>count</th>\n",
       "      <td>421003.000000</td>\n",
       "    </tr>\n",
       "    <tr>\n",
       "      <th>mean</th>\n",
       "      <td>3.703551</td>\n",
       "    </tr>\n",
       "    <tr>\n",
       "      <th>std</th>\n",
       "      <td>1.452722</td>\n",
       "    </tr>\n",
       "    <tr>\n",
       "      <th>min</th>\n",
       "      <td>1.000000</td>\n",
       "    </tr>\n",
       "    <tr>\n",
       "      <th>25%</th>\n",
       "      <td>3.000000</td>\n",
       "    </tr>\n",
       "    <tr>\n",
       "      <th>50%</th>\n",
       "      <td>4.000000</td>\n",
       "    </tr>\n",
       "    <tr>\n",
       "      <th>75%</th>\n",
       "      <td>5.000000</td>\n",
       "    </tr>\n",
       "    <tr>\n",
       "      <th>max</th>\n",
       "      <td>5.000000</td>\n",
       "    </tr>\n",
       "  </tbody>\n",
       "</table>\n",
       "</div>"
      ],
      "text/plain": [
       "        review_stars\n",
       "count  421003.000000\n",
       "mean        3.703551\n",
       "std         1.452722\n",
       "min         1.000000\n",
       "25%         3.000000\n",
       "50%         4.000000\n",
       "75%         5.000000\n",
       "max         5.000000"
      ]
     },
     "execution_count": 327,
     "metadata": {},
     "output_type": "execute_result"
    }
   ],
   "source": [
    "# Check what is the rating scale, from below we see it is from 1 to 5\n",
    "first_model_df.describe()"
   ]
  },
  {
   "cell_type": "code",
   "execution_count": 328,
   "metadata": {},
   "outputs": [
    {
     "data": {
      "text/plain": [
       "(421003, 4)"
      ]
     },
     "execution_count": 328,
     "metadata": {},
     "output_type": "execute_result"
    }
   ],
   "source": [
    "first_model_df.shape"
   ]
  },
  {
   "cell_type": "code",
   "execution_count": 329,
   "metadata": {},
   "outputs": [],
   "source": [
    "# Convert ratings to int\n",
    "first_model_df['review_stars'] = first_model_df['review_stars'].astype('int')"
   ]
  },
  {
   "cell_type": "code",
   "execution_count": 330,
   "metadata": {},
   "outputs": [],
   "source": [
    "# Defining the rating scale for our model\n",
    "reader = Reader(rating_scale = (1,5))"
   ]
  },
  {
   "cell_type": "code",
   "execution_count": 331,
   "metadata": {},
   "outputs": [],
   "source": [
    "# Loading the dataset\n",
    "first_model_df = first_model_df[['user_id', 'name', 'review_stars']]\n",
    "data = Dataset.load_from_df(first_model_df,reader)"
   ]
  },
  {
   "cell_type": "code",
   "execution_count": 332,
   "metadata": {},
   "outputs": [],
   "source": [
    "# Train, test split\n",
    "trainset, testset = train_test_split(data, test_size = 0.25)"
   ]
  },
  {
   "cell_type": "code",
   "execution_count": 333,
   "metadata": {},
   "outputs": [],
   "source": [
    "# Taking number of latent features as 100; this can be changed\n",
    "model = SVD(n_factors = 100)"
   ]
  },
  {
   "cell_type": "code",
   "execution_count": 334,
   "metadata": {},
   "outputs": [
    {
     "data": {
      "text/plain": [
       "<surprise.prediction_algorithms.matrix_factorization.SVD at 0x1a65273b50>"
      ]
     },
     "execution_count": 334,
     "metadata": {},
     "output_type": "execute_result"
    }
   ],
   "source": [
    "# Fitting the model on the trainset\n",
    "model.fit(trainset)"
   ]
  },
  {
   "cell_type": "code",
   "execution_count": 335,
   "metadata": {},
   "outputs": [
    {
     "data": {
      "text/plain": [
       "(4262, 100)"
      ]
     },
     "execution_count": 335,
     "metadata": {},
     "output_type": "execute_result"
    }
   ],
   "source": [
    "# Inspect the shape of our product matrix\n",
    "model.qi.shape"
   ]
  },
  {
   "cell_type": "code",
   "execution_count": 336,
   "metadata": {},
   "outputs": [],
   "source": [
    "# In above, we see that for 22240 data rows, we have created 1000 latent features"
   ]
  },
  {
   "cell_type": "code",
   "execution_count": 337,
   "metadata": {},
   "outputs": [
    {
     "name": "stdout",
     "output_type": "stream",
     "text": [
      "[('WinCo Foods', 0), ('The Buffet at ARIA', 1), ('Paradise Place Jamaican Cuisine', 2), ('White Castle', 3), ('The Cosmopolitan of Las Vegas', 4)]\n"
     ]
    }
   ],
   "source": [
    "# Mapping vector back to its restaurant\n",
    "dict_items_restaurants = trainset._raw2inner_id_items.items()\n",
    "dict_restaurants = trainset._raw2inner_id_items\n",
    "print(list(dict_items_restaurants)[:5])"
   ]
  },
  {
   "cell_type": "code",
   "execution_count": 338,
   "metadata": {},
   "outputs": [],
   "source": [
    "# Predicting Rating ---> Using MATRIX RECONSTRUCTION"
   ]
  },
  {
   "cell_type": "code",
   "execution_count": 339,
   "metadata": {},
   "outputs": [
    {
     "data": {
      "text/plain": [
       "Prediction(uid='_TAVpa1Y2_5KZ5wWYeX_6g', iid='MadHouse Coffee', r_ui=None, est=3.581543501402021, details={'was_impossible': False})"
      ]
     },
     "execution_count": 339,
     "metadata": {},
     "output_type": "execute_result"
    }
   ],
   "source": [
    "customer_test = '_TAVpa1Y2_5KZ5wWYeX_6g'\n",
    "restaurant_test = 'MadHouse Coffee'\n",
    "model.predict(customer_test,restaurant_test)"
   ]
  },
  {
   "cell_type": "code",
   "execution_count": 340,
   "metadata": {},
   "outputs": [],
   "source": [
    "# RECOMMENDING RESTAURANT ---> Using ITEM SIMILARITY, USING COSINE SIMILARITY\n",
    "# Similarity is high when cosine is low (close to 0), similarity is less when cosine is high (close to 1)"
   ]
  },
  {
   "cell_type": "code",
   "execution_count": 341,
   "metadata": {},
   "outputs": [],
   "source": [
    "# Fetch indices\n",
    "restraurant1_idx = model.trainset._raw2inner_id_items['MadHouse Coffee']\n",
    "restraurant2_idx = model.trainset._raw2inner_id_items[\"Roberto's Taco Shop\"]"
   ]
  },
  {
   "cell_type": "code",
   "execution_count": 342,
   "metadata": {},
   "outputs": [],
   "source": [
    "# Get vectors\n",
    "restraurant1_vector = model.qi[restraurant1_idx]\n",
    "restraurant2_vector = model.qi[restraurant2_idx]"
   ]
  },
  {
   "cell_type": "code",
   "execution_count": 343,
   "metadata": {},
   "outputs": [
    {
     "data": {
      "text/plain": [
       "1.0462852767347521"
      ]
     },
     "execution_count": 343,
     "metadata": {},
     "output_type": "execute_result"
    }
   ],
   "source": [
    "# Cosine distance between restaurants\n",
    "sp.spatial.distance.cosine(restraurant1_vector,restraurant2_vector)"
   ]
  },
  {
   "cell_type": "code",
   "execution_count": 344,
   "metadata": {},
   "outputs": [],
   "source": [
    "def similar_restaurants(input_business):\n",
    "    reco = {}\n",
    "    for i in dict_restaurants.keys():\n",
    "            reco[i] = np.abs(sp.spatial.distance.cosine(model.qi[model.trainset._raw2inner_id_items[input_business]],model.qi[model.trainset._raw2inner_id_items[i]]))\n",
    "    \n",
    "    return(sorted(reco.items(), key=lambda x: x[1]))\n"
   ]
  },
  {
   "cell_type": "code",
   "execution_count": 345,
   "metadata": {},
   "outputs": [
    {
     "data": {
      "text/plain": [
       "[(\"Roberto's Taco Shop\", 0.0),\n",
       " ('Paleteria Y Neveria Mexicana', 0.6613472236191806),\n",
       " ('Vegan Meals by Mindy', 0.6821334672285561),\n",
       " ('Wreck Room', 0.6863374458761893),\n",
       " ('ChinaLatina', 0.6928993260863445),\n",
       " ('Palms Race & Sports Book', 0.6934508808314943),\n",
       " ('Nigerian Food', 0.6935258838346848),\n",
       " ('Pyramid Cafe', 0.6939921263453466),\n",
       " ('USO Terminal 1', 0.6985395610486261),\n",
       " ('Pho Kim Long', 0.7057687739978599),\n",
       " ('IKEA', 0.712755359242305)]"
      ]
     },
     "execution_count": 345,
     "metadata": {},
     "output_type": "execute_result"
    }
   ],
   "source": [
    "# First restaurant, will always be itself, as similarity with itself is 0\n",
    "# TOP 10 Recommendations\n",
    "similar_restaurants(\"Roberto's Taco Shop\")[:11]"
   ]
  }
 ],
 "metadata": {
  "kernelspec": {
   "display_name": "Python 3",
   "language": "python",
   "name": "python3"
  },
  "language_info": {
   "codemirror_mode": {
    "name": "ipython",
    "version": 3
   },
   "file_extension": ".py",
   "mimetype": "text/x-python",
   "name": "python",
   "nbconvert_exporter": "python",
   "pygments_lexer": "ipython3",
   "version": "3.7.6"
  }
 },
 "nbformat": 4,
 "nbformat_minor": 4
}
