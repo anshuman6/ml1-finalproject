{
 "cells": [
  {
   "cell_type": "code",
   "execution_count": null,
   "metadata": {},
   "outputs": [],
   "source": [
    "## This file is to preprocess and load data"
   ]
  },
  {
   "cell_type": "code",
   "execution_count": 1,
   "metadata": {},
   "outputs": [],
   "source": [
    "%matplotlib inline\n",
    "import numpy as np\n",
    "import scipy as sp\n",
    "from scipy.stats.stats import pearsonr\n",
    "import matplotlib as mpl\n",
    "import matplotlib.cm as cm\n",
    "import matplotlib.pyplot as plt\n",
    "from matplotlib.colors import LogNorm\n",
    "import pandas as pd\n",
    "from sklearn.model_selection import train_test_split\n",
    "from sklearn.model_selection import GridSearchCV\n",
    "from sklearn.metrics import confusion_matrix\n",
    "from sklearn.preprocessing import StandardScaler\n",
    "from sklearn.linear_model import LogisticRegression\n",
    "from sklearn.metrics import roc_curve, auc\n",
    "\n",
    "import seaborn as sns\n",
    "sns.set_style()\n",
    "sns.set_context(\"talk\")\n",
    "import warnings\n",
    "warnings.filterwarnings(\"ignore\")"
   ]
  },
  {
   "cell_type": "code",
   "execution_count": 2,
   "metadata": {},
   "outputs": [],
   "source": [
    "# Load the business json file\n",
    "business_path = 'yelp_dataset/yelp_academic_dataset_business.json'\n",
    "business = pd.read_json(business_path,lines=True)"
   ]
  },
  {
   "cell_type": "code",
   "execution_count": 3,
   "metadata": {},
   "outputs": [
    {
     "data": {
      "text/html": [
       "<div>\n",
       "<style scoped>\n",
       "    .dataframe tbody tr th:only-of-type {\n",
       "        vertical-align: middle;\n",
       "    }\n",
       "\n",
       "    .dataframe tbody tr th {\n",
       "        vertical-align: top;\n",
       "    }\n",
       "\n",
       "    .dataframe thead th {\n",
       "        text-align: right;\n",
       "    }\n",
       "</style>\n",
       "<table border=\"1\" class=\"dataframe\">\n",
       "  <thead>\n",
       "    <tr style=\"text-align: right;\">\n",
       "      <th></th>\n",
       "      <th>business_id</th>\n",
       "      <th>name</th>\n",
       "      <th>address</th>\n",
       "      <th>city</th>\n",
       "      <th>state</th>\n",
       "      <th>postal_code</th>\n",
       "      <th>latitude</th>\n",
       "      <th>longitude</th>\n",
       "      <th>stars</th>\n",
       "      <th>review_count</th>\n",
       "      <th>is_open</th>\n",
       "      <th>attributes</th>\n",
       "      <th>categories</th>\n",
       "      <th>hours</th>\n",
       "    </tr>\n",
       "  </thead>\n",
       "  <tbody>\n",
       "    <tr>\n",
       "      <th>0</th>\n",
       "      <td>f9NumwFMBDn751xgFiRbNA</td>\n",
       "      <td>The Range At Lake Norman</td>\n",
       "      <td>10913 Bailey Rd</td>\n",
       "      <td>Cornelius</td>\n",
       "      <td>NC</td>\n",
       "      <td>28031</td>\n",
       "      <td>35.462724</td>\n",
       "      <td>-80.852612</td>\n",
       "      <td>3.5</td>\n",
       "      <td>36</td>\n",
       "      <td>1</td>\n",
       "      <td>{'BusinessAcceptsCreditCards': 'True', 'BikePa...</td>\n",
       "      <td>Active Life, Gun/Rifle Ranges, Guns &amp; Ammo, Sh...</td>\n",
       "      <td>{'Monday': '10:0-18:0', 'Tuesday': '11:0-20:0'...</td>\n",
       "    </tr>\n",
       "    <tr>\n",
       "      <th>1</th>\n",
       "      <td>Yzvjg0SayhoZgCljUJRF9Q</td>\n",
       "      <td>Carlos Santo, NMD</td>\n",
       "      <td>8880 E Via Linda, Ste 107</td>\n",
       "      <td>Scottsdale</td>\n",
       "      <td>AZ</td>\n",
       "      <td>85258</td>\n",
       "      <td>33.569404</td>\n",
       "      <td>-111.890264</td>\n",
       "      <td>5.0</td>\n",
       "      <td>4</td>\n",
       "      <td>1</td>\n",
       "      <td>{'GoodForKids': 'True', 'ByAppointmentOnly': '...</td>\n",
       "      <td>Health &amp; Medical, Fitness &amp; Instruction, Yoga,...</td>\n",
       "      <td>None</td>\n",
       "    </tr>\n",
       "  </tbody>\n",
       "</table>\n",
       "</div>"
      ],
      "text/plain": [
       "              business_id                      name  \\\n",
       "0  f9NumwFMBDn751xgFiRbNA  The Range At Lake Norman   \n",
       "1  Yzvjg0SayhoZgCljUJRF9Q         Carlos Santo, NMD   \n",
       "\n",
       "                     address        city state postal_code   latitude  \\\n",
       "0            10913 Bailey Rd   Cornelius    NC       28031  35.462724   \n",
       "1  8880 E Via Linda, Ste 107  Scottsdale    AZ       85258  33.569404   \n",
       "\n",
       "    longitude  stars  review_count  is_open  \\\n",
       "0  -80.852612    3.5            36        1   \n",
       "1 -111.890264    5.0             4        1   \n",
       "\n",
       "                                          attributes  \\\n",
       "0  {'BusinessAcceptsCreditCards': 'True', 'BikePa...   \n",
       "1  {'GoodForKids': 'True', 'ByAppointmentOnly': '...   \n",
       "\n",
       "                                          categories  \\\n",
       "0  Active Life, Gun/Rifle Ranges, Guns & Ammo, Sh...   \n",
       "1  Health & Medical, Fitness & Instruction, Yoga,...   \n",
       "\n",
       "                                               hours  \n",
       "0  {'Monday': '10:0-18:0', 'Tuesday': '11:0-20:0'...  \n",
       "1                                               None  "
      ]
     },
     "execution_count": 3,
     "metadata": {},
     "output_type": "execute_result"
    }
   ],
   "source": [
    "# Check the fields in business\n",
    "business.head(2)"
   ]
  },
  {
   "cell_type": "code",
   "execution_count": 4,
   "metadata": {},
   "outputs": [],
   "source": [
    "# Dropping businesses which are not open\n",
    "business = business.loc[business['is_open']==1]"
   ]
  },
  {
   "cell_type": "code",
   "execution_count": 5,
   "metadata": {},
   "outputs": [
    {
     "data": {
      "text/plain": [
       "Las Vegas     25043\n",
       "Phoenix       16305\n",
       "Toronto       14962\n",
       "Charlotte      8500\n",
       "Scottsdale     7341\n",
       "Calgary        6772\n",
       "Pittsburgh     6107\n",
       "Mesa           5482\n",
       "Montréal       5367\n",
       "Henderson      4293\n",
       "Name: city, dtype: int64"
      ]
     },
     "execution_count": 5,
     "metadata": {},
     "output_type": "execute_result"
    }
   ],
   "source": [
    "# Check the top 10 cities represented in our dataset\n",
    "business[\"city\"].value_counts()[:10]"
   ]
  },
  {
   "cell_type": "code",
   "execution_count": 6,
   "metadata": {},
   "outputs": [],
   "source": [
    "# To restrict and limit the size of data, let us stick to Las Vegas only\n",
    "business = business.loc[business['city'] == 'Las Vegas']"
   ]
  },
  {
   "cell_type": "code",
   "execution_count": 7,
   "metadata": {},
   "outputs": [
    {
     "data": {
      "text/html": [
       "<div>\n",
       "<style scoped>\n",
       "    .dataframe tbody tr th:only-of-type {\n",
       "        vertical-align: middle;\n",
       "    }\n",
       "\n",
       "    .dataframe tbody tr th {\n",
       "        vertical-align: top;\n",
       "    }\n",
       "\n",
       "    .dataframe thead th {\n",
       "        text-align: right;\n",
       "    }\n",
       "</style>\n",
       "<table border=\"1\" class=\"dataframe\">\n",
       "  <thead>\n",
       "    <tr style=\"text-align: right;\">\n",
       "      <th></th>\n",
       "      <th>business_id</th>\n",
       "      <th>name</th>\n",
       "      <th>address</th>\n",
       "      <th>city</th>\n",
       "      <th>state</th>\n",
       "      <th>postal_code</th>\n",
       "      <th>latitude</th>\n",
       "      <th>longitude</th>\n",
       "      <th>stars</th>\n",
       "      <th>review_count</th>\n",
       "      <th>is_open</th>\n",
       "      <th>attributes</th>\n",
       "      <th>categories</th>\n",
       "      <th>hours</th>\n",
       "    </tr>\n",
       "  </thead>\n",
       "  <tbody>\n",
       "    <tr>\n",
       "      <th>6</th>\n",
       "      <td>oiAlXZPIFm2nBCt0DHLu_Q</td>\n",
       "      <td>Green World Cleaners</td>\n",
       "      <td>6870 S Rainbow Blvd, Ste 117</td>\n",
       "      <td>Las Vegas</td>\n",
       "      <td>NV</td>\n",
       "      <td>89118</td>\n",
       "      <td>36.063977</td>\n",
       "      <td>-115.241463</td>\n",
       "      <td>3.5</td>\n",
       "      <td>81</td>\n",
       "      <td>1</td>\n",
       "      <td>{'BusinessParking': '{'garage': False, 'street...</td>\n",
       "      <td>Dry Cleaning &amp; Laundry, Local Services, Laundr...</td>\n",
       "      <td>{'Monday': '7:0-19:0', 'Tuesday': '7:0-19:0', ...</td>\n",
       "    </tr>\n",
       "    <tr>\n",
       "      <th>51</th>\n",
       "      <td>5XMKDYmMGSKkCkrYoELxzg</td>\n",
       "      <td>Annette Thomas Hair Colorist Specialist</td>\n",
       "      <td>101 S Rainbow Blvd, Ste 23, Darby's Hairitage</td>\n",
       "      <td>Las Vegas</td>\n",
       "      <td>NV</td>\n",
       "      <td>89107</td>\n",
       "      <td>36.172534</td>\n",
       "      <td>-115.244762</td>\n",
       "      <td>5.0</td>\n",
       "      <td>7</td>\n",
       "      <td>1</td>\n",
       "      <td>{'GoodForKids': 'True', 'BusinessParking': '{'...</td>\n",
       "      <td>Hair Stylists, Hair Salons, Beauty &amp; Spas</td>\n",
       "      <td>None</td>\n",
       "    </tr>\n",
       "  </tbody>\n",
       "</table>\n",
       "</div>"
      ],
      "text/plain": [
       "               business_id                                     name  \\\n",
       "6   oiAlXZPIFm2nBCt0DHLu_Q                     Green World Cleaners   \n",
       "51  5XMKDYmMGSKkCkrYoELxzg  Annette Thomas Hair Colorist Specialist   \n",
       "\n",
       "                                          address       city state  \\\n",
       "6                    6870 S Rainbow Blvd, Ste 117  Las Vegas    NV   \n",
       "51  101 S Rainbow Blvd, Ste 23, Darby's Hairitage  Las Vegas    NV   \n",
       "\n",
       "   postal_code   latitude   longitude  stars  review_count  is_open  \\\n",
       "6        89118  36.063977 -115.241463    3.5            81        1   \n",
       "51       89107  36.172534 -115.244762    5.0             7        1   \n",
       "\n",
       "                                           attributes  \\\n",
       "6   {'BusinessParking': '{'garage': False, 'street...   \n",
       "51  {'GoodForKids': 'True', 'BusinessParking': '{'...   \n",
       "\n",
       "                                           categories  \\\n",
       "6   Dry Cleaning & Laundry, Local Services, Laundr...   \n",
       "51          Hair Stylists, Hair Salons, Beauty & Spas   \n",
       "\n",
       "                                                hours  \n",
       "6   {'Monday': '7:0-19:0', 'Tuesday': '7:0-19:0', ...  \n",
       "51                                               None  "
      ]
     },
     "execution_count": 7,
     "metadata": {},
     "output_type": "execute_result"
    }
   ],
   "source": [
    "business.head(2)"
   ]
  },
  {
   "cell_type": "code",
   "execution_count": null,
   "metadata": {},
   "outputs": [],
   "source": [
    "# Drop the columns that we dont need\n",
    "business = business.drop(['city','address', 'state', 'latitude', 'longitude', 'is_open','attributes','hours'], axis=1)"
   ]
  },
  {
   "cell_type": "code",
   "execution_count": 51,
   "metadata": {},
   "outputs": [],
   "source": [
    "# Restricting to businesses with atleast 10 reviews\n",
    "business = business.loc[business['review_count'] >= 10]"
   ]
  },
  {
   "cell_type": "code",
   "execution_count": 55,
   "metadata": {},
   "outputs": [
    {
     "data": {
      "text/plain": [
       "(15386, 6)"
      ]
     },
     "execution_count": 55,
     "metadata": {},
     "output_type": "execute_result"
    }
   ],
   "source": [
    "# Check the number of businesses we have in our datset now\n",
    "business.shape"
   ]
  },
  {
   "cell_type": "code",
   "execution_count": 57,
   "metadata": {},
   "outputs": [
    {
     "data": {
      "text/html": [
       "<div>\n",
       "<style scoped>\n",
       "    .dataframe tbody tr th:only-of-type {\n",
       "        vertical-align: middle;\n",
       "    }\n",
       "\n",
       "    .dataframe tbody tr th {\n",
       "        vertical-align: top;\n",
       "    }\n",
       "\n",
       "    .dataframe thead th {\n",
       "        text-align: right;\n",
       "    }\n",
       "</style>\n",
       "<table border=\"1\" class=\"dataframe\">\n",
       "  <thead>\n",
       "    <tr style=\"text-align: right;\">\n",
       "      <th></th>\n",
       "      <th>business_id</th>\n",
       "      <th>name</th>\n",
       "      <th>postal_code</th>\n",
       "      <th>stars</th>\n",
       "      <th>review_count</th>\n",
       "      <th>categories</th>\n",
       "    </tr>\n",
       "  </thead>\n",
       "  <tbody>\n",
       "    <tr>\n",
       "      <th>6</th>\n",
       "      <td>oiAlXZPIFm2nBCt0DHLu_Q</td>\n",
       "      <td>Green World Cleaners</td>\n",
       "      <td>89118</td>\n",
       "      <td>3.5</td>\n",
       "      <td>81</td>\n",
       "      <td>Dry Cleaning &amp; Laundry, Local Services, Laundr...</td>\n",
       "    </tr>\n",
       "    <tr>\n",
       "      <th>66</th>\n",
       "      <td>bierVTEi44nJtFVQ01N-yQ</td>\n",
       "      <td>Lacoste Outlet Las Vegas</td>\n",
       "      <td>89106</td>\n",
       "      <td>3.5</td>\n",
       "      <td>11</td>\n",
       "      <td>Accessories, Shopping, Fashion, Men's Clothing...</td>\n",
       "    </tr>\n",
       "    <tr>\n",
       "      <th>78</th>\n",
       "      <td>FrMRHhzT-qUzv1-Nh1IOjQ</td>\n",
       "      <td>Sin City Party Buses</td>\n",
       "      <td>89118</td>\n",
       "      <td>4.0</td>\n",
       "      <td>18</td>\n",
       "      <td>Hotels &amp; Travel, Party Bus Rentals, Limos, Eve...</td>\n",
       "    </tr>\n",
       "    <tr>\n",
       "      <th>86</th>\n",
       "      <td>OWkS1FXNJbozn-qPg3LWxg</td>\n",
       "      <td>Mama Napoli Pizza</td>\n",
       "      <td>89109</td>\n",
       "      <td>4.5</td>\n",
       "      <td>11</td>\n",
       "      <td>Food, Food Trucks, Restaurants, Pizza</td>\n",
       "    </tr>\n",
       "    <tr>\n",
       "      <th>101</th>\n",
       "      <td>MTx-Zdl_KcU_z9G832XAjg</td>\n",
       "      <td>Taco Bell</td>\n",
       "      <td>89131</td>\n",
       "      <td>2.5</td>\n",
       "      <td>37</td>\n",
       "      <td>Fast Food, Restaurants</td>\n",
       "    </tr>\n",
       "  </tbody>\n",
       "</table>\n",
       "</div>"
      ],
      "text/plain": [
       "                business_id                      name postal_code  stars  \\\n",
       "6    oiAlXZPIFm2nBCt0DHLu_Q      Green World Cleaners       89118    3.5   \n",
       "66   bierVTEi44nJtFVQ01N-yQ  Lacoste Outlet Las Vegas       89106    3.5   \n",
       "78   FrMRHhzT-qUzv1-Nh1IOjQ      Sin City Party Buses       89118    4.0   \n",
       "86   OWkS1FXNJbozn-qPg3LWxg         Mama Napoli Pizza       89109    4.5   \n",
       "101  MTx-Zdl_KcU_z9G832XAjg                 Taco Bell       89131    2.5   \n",
       "\n",
       "     review_count                                         categories  \n",
       "6              81  Dry Cleaning & Laundry, Local Services, Laundr...  \n",
       "66             11  Accessories, Shopping, Fashion, Men's Clothing...  \n",
       "78             18  Hotels & Travel, Party Bus Rentals, Limos, Eve...  \n",
       "86             11              Food, Food Trucks, Restaurants, Pizza  \n",
       "101            37                             Fast Food, Restaurants  "
      ]
     },
     "execution_count": 57,
     "metadata": {},
     "output_type": "execute_result"
    }
   ],
   "source": [
    "# Check the dataset\n",
    "business.head(5)"
   ]
  },
  {
   "cell_type": "code",
   "execution_count": 8,
   "metadata": {},
   "outputs": [],
   "source": [
    "# Importing review json file in chunks, because of the super large size\n",
    "review_json_path = 'yelp_dataset/yelp_academic_dataset_review.json'\n",
    "size = 1000000\n",
    "review = pd.read_json(review_json_path, lines=True,\n",
    "                      dtype={'review_id':str,'user_id':str,\n",
    "                             'business_id':str,'stars':int,'text':str,'useful':int},\n",
    "                      chunksize=size)"
   ]
  },
  {
   "cell_type": "code",
   "execution_count": 9,
   "metadata": {},
   "outputs": [
    {
     "data": {
      "text/plain": [
       "<pandas.io.json._json.JsonReader at 0x1a17920ad0>"
      ]
     },
     "execution_count": 9,
     "metadata": {},
     "output_type": "execute_result"
    }
   ],
   "source": [
    "review"
   ]
  },
  {
   "cell_type": "code",
   "execution_count": 10,
   "metadata": {},
   "outputs": [
    {
     "name": "stdout",
     "output_type": "stream",
     "text": [
      "263232 out of 1,000,000 related reviews\n",
      "257926 out of 1,000,000 related reviews\n",
      "269003 out of 1,000,000 related reviews\n",
      "254226 out of 1,000,000 related reviews\n",
      "264068 out of 1,000,000 related reviews\n",
      "266846 out of 1,000,000 related reviews\n",
      "248374 out of 1,000,000 related reviews\n",
      "260298 out of 1,000,000 related reviews\n",
      "6036 out of 1,000,000 related reviews\n"
     ]
    }
   ],
   "source": [
    "# With help from: \n",
    "#https://towardsdatascience.com/converting-yelp-dataset-to-csv-using-pandas-2a4c8f03bd88\n",
    "\n",
    "chunk_list = []\n",
    "for chunk_review in review:\n",
    "    # Renaming column name to avoid conflict with business overall star rating\n",
    "    chunk_review = chunk_review.rename(columns={'stars': 'review_stars'})\n",
    "    # Inner merge with edited business file so only reviews related to the business remain\n",
    "    chunk_merged = pd.merge(business, chunk_review, on='business_id', how='inner')\n",
    "    # Show feedback on progress\n",
    "    print(f\"{chunk_merged.shape[0]} out of {size:,} related reviews\")\n",
    "    chunk_list.append(chunk_merged)\n",
    "# After trimming down the review file, concatenate all relevant data back to one dataframe\n",
    "df = pd.concat(chunk_list, ignore_index=True, join='outer', axis=0)"
   ]
  },
  {
   "cell_type": "code",
   "execution_count": 11,
   "metadata": {},
   "outputs": [
    {
     "data": {
      "text/html": [
       "<div>\n",
       "<style scoped>\n",
       "    .dataframe tbody tr th:only-of-type {\n",
       "        vertical-align: middle;\n",
       "    }\n",
       "\n",
       "    .dataframe tbody tr th {\n",
       "        vertical-align: top;\n",
       "    }\n",
       "\n",
       "    .dataframe thead th {\n",
       "        text-align: right;\n",
       "    }\n",
       "</style>\n",
       "<table border=\"1\" class=\"dataframe\">\n",
       "  <thead>\n",
       "    <tr style=\"text-align: right;\">\n",
       "      <th></th>\n",
       "      <th>business_id</th>\n",
       "      <th>name</th>\n",
       "      <th>address</th>\n",
       "      <th>city</th>\n",
       "      <th>state</th>\n",
       "      <th>postal_code</th>\n",
       "      <th>latitude</th>\n",
       "      <th>longitude</th>\n",
       "      <th>stars</th>\n",
       "      <th>review_count</th>\n",
       "      <th>...</th>\n",
       "      <th>categories</th>\n",
       "      <th>hours</th>\n",
       "      <th>review_id</th>\n",
       "      <th>user_id</th>\n",
       "      <th>review_stars</th>\n",
       "      <th>useful</th>\n",
       "      <th>funny</th>\n",
       "      <th>cool</th>\n",
       "      <th>text</th>\n",
       "      <th>date</th>\n",
       "    </tr>\n",
       "  </thead>\n",
       "  <tbody>\n",
       "    <tr>\n",
       "      <th>0</th>\n",
       "      <td>oiAlXZPIFm2nBCt0DHLu_Q</td>\n",
       "      <td>Green World Cleaners</td>\n",
       "      <td>6870 S Rainbow Blvd, Ste 117</td>\n",
       "      <td>Las Vegas</td>\n",
       "      <td>NV</td>\n",
       "      <td>89118</td>\n",
       "      <td>36.063977</td>\n",
       "      <td>-115.241463</td>\n",
       "      <td>3.5</td>\n",
       "      <td>81</td>\n",
       "      <td>...</td>\n",
       "      <td>Dry Cleaning &amp; Laundry, Local Services, Laundr...</td>\n",
       "      <td>{'Monday': '7:0-19:0', 'Tuesday': '7:0-19:0', ...</td>\n",
       "      <td>9bMxu3-RCv0ncYnNNNkbWg</td>\n",
       "      <td>IMguz1Z9dp8HG0UfeLEdEg</td>\n",
       "      <td>5</td>\n",
       "      <td>3</td>\n",
       "      <td>0</td>\n",
       "      <td>1</td>\n",
       "      <td>I've been coming to this dry cleaner for almos...</td>\n",
       "      <td>2016-06-23 05:50:54</td>\n",
       "    </tr>\n",
       "    <tr>\n",
       "      <th>1</th>\n",
       "      <td>oiAlXZPIFm2nBCt0DHLu_Q</td>\n",
       "      <td>Green World Cleaners</td>\n",
       "      <td>6870 S Rainbow Blvd, Ste 117</td>\n",
       "      <td>Las Vegas</td>\n",
       "      <td>NV</td>\n",
       "      <td>89118</td>\n",
       "      <td>36.063977</td>\n",
       "      <td>-115.241463</td>\n",
       "      <td>3.5</td>\n",
       "      <td>81</td>\n",
       "      <td>...</td>\n",
       "      <td>Dry Cleaning &amp; Laundry, Local Services, Laundr...</td>\n",
       "      <td>{'Monday': '7:0-19:0', 'Tuesday': '7:0-19:0', ...</td>\n",
       "      <td>b-B3ycJZmOTP5EdWTwCsMA</td>\n",
       "      <td>_TAVpa1Y2_5KZ5wWYeX_6g</td>\n",
       "      <td>1</td>\n",
       "      <td>1</td>\n",
       "      <td>0</td>\n",
       "      <td>0</td>\n",
       "      <td>They lost 2 pairs of my suitpants and told me ...</td>\n",
       "      <td>2011-10-27 23:35:10</td>\n",
       "    </tr>\n",
       "    <tr>\n",
       "      <th>2</th>\n",
       "      <td>oiAlXZPIFm2nBCt0DHLu_Q</td>\n",
       "      <td>Green World Cleaners</td>\n",
       "      <td>6870 S Rainbow Blvd, Ste 117</td>\n",
       "      <td>Las Vegas</td>\n",
       "      <td>NV</td>\n",
       "      <td>89118</td>\n",
       "      <td>36.063977</td>\n",
       "      <td>-115.241463</td>\n",
       "      <td>3.5</td>\n",
       "      <td>81</td>\n",
       "      <td>...</td>\n",
       "      <td>Dry Cleaning &amp; Laundry, Local Services, Laundr...</td>\n",
       "      <td>{'Monday': '7:0-19:0', 'Tuesday': '7:0-19:0', ...</td>\n",
       "      <td>MaIIb4Er_LuqN3zSSdA06w</td>\n",
       "      <td>45R6BBybzwDuJaL08d1myQ</td>\n",
       "      <td>5</td>\n",
       "      <td>1</td>\n",
       "      <td>0</td>\n",
       "      <td>0</td>\n",
       "      <td>I have been going to this dry cleaning since I...</td>\n",
       "      <td>2013-07-13 03:25:04</td>\n",
       "    </tr>\n",
       "    <tr>\n",
       "      <th>3</th>\n",
       "      <td>oiAlXZPIFm2nBCt0DHLu_Q</td>\n",
       "      <td>Green World Cleaners</td>\n",
       "      <td>6870 S Rainbow Blvd, Ste 117</td>\n",
       "      <td>Las Vegas</td>\n",
       "      <td>NV</td>\n",
       "      <td>89118</td>\n",
       "      <td>36.063977</td>\n",
       "      <td>-115.241463</td>\n",
       "      <td>3.5</td>\n",
       "      <td>81</td>\n",
       "      <td>...</td>\n",
       "      <td>Dry Cleaning &amp; Laundry, Local Services, Laundr...</td>\n",
       "      <td>{'Monday': '7:0-19:0', 'Tuesday': '7:0-19:0', ...</td>\n",
       "      <td>RALKX860sppIq-oxsSFhqQ</td>\n",
       "      <td>7iziCsP2MkHMmckpYVPSDg</td>\n",
       "      <td>1</td>\n",
       "      <td>4</td>\n",
       "      <td>1</td>\n",
       "      <td>1</td>\n",
       "      <td>I've only had my dry cleaning done here twice ...</td>\n",
       "      <td>2016-06-23 01:58:09</td>\n",
       "    </tr>\n",
       "    <tr>\n",
       "      <th>4</th>\n",
       "      <td>oiAlXZPIFm2nBCt0DHLu_Q</td>\n",
       "      <td>Green World Cleaners</td>\n",
       "      <td>6870 S Rainbow Blvd, Ste 117</td>\n",
       "      <td>Las Vegas</td>\n",
       "      <td>NV</td>\n",
       "      <td>89118</td>\n",
       "      <td>36.063977</td>\n",
       "      <td>-115.241463</td>\n",
       "      <td>3.5</td>\n",
       "      <td>81</td>\n",
       "      <td>...</td>\n",
       "      <td>Dry Cleaning &amp; Laundry, Local Services, Laundr...</td>\n",
       "      <td>{'Monday': '7:0-19:0', 'Tuesday': '7:0-19:0', ...</td>\n",
       "      <td>zmueCMXpF3v2Gz2Szxq01g</td>\n",
       "      <td>Yg08tRMxm0eaL-rXyNIAHw</td>\n",
       "      <td>5</td>\n",
       "      <td>3</td>\n",
       "      <td>1</td>\n",
       "      <td>1</td>\n",
       "      <td>After reading the reviews of the cleaners clos...</td>\n",
       "      <td>2012-09-12 20:38:40</td>\n",
       "    </tr>\n",
       "  </tbody>\n",
       "</table>\n",
       "<p>5 rows × 22 columns</p>\n",
       "</div>"
      ],
      "text/plain": [
       "              business_id                  name                       address  \\\n",
       "0  oiAlXZPIFm2nBCt0DHLu_Q  Green World Cleaners  6870 S Rainbow Blvd, Ste 117   \n",
       "1  oiAlXZPIFm2nBCt0DHLu_Q  Green World Cleaners  6870 S Rainbow Blvd, Ste 117   \n",
       "2  oiAlXZPIFm2nBCt0DHLu_Q  Green World Cleaners  6870 S Rainbow Blvd, Ste 117   \n",
       "3  oiAlXZPIFm2nBCt0DHLu_Q  Green World Cleaners  6870 S Rainbow Blvd, Ste 117   \n",
       "4  oiAlXZPIFm2nBCt0DHLu_Q  Green World Cleaners  6870 S Rainbow Blvd, Ste 117   \n",
       "\n",
       "        city state postal_code   latitude   longitude  stars  review_count  \\\n",
       "0  Las Vegas    NV       89118  36.063977 -115.241463    3.5            81   \n",
       "1  Las Vegas    NV       89118  36.063977 -115.241463    3.5            81   \n",
       "2  Las Vegas    NV       89118  36.063977 -115.241463    3.5            81   \n",
       "3  Las Vegas    NV       89118  36.063977 -115.241463    3.5            81   \n",
       "4  Las Vegas    NV       89118  36.063977 -115.241463    3.5            81   \n",
       "\n",
       "   ...                                         categories  \\\n",
       "0  ...  Dry Cleaning & Laundry, Local Services, Laundr...   \n",
       "1  ...  Dry Cleaning & Laundry, Local Services, Laundr...   \n",
       "2  ...  Dry Cleaning & Laundry, Local Services, Laundr...   \n",
       "3  ...  Dry Cleaning & Laundry, Local Services, Laundr...   \n",
       "4  ...  Dry Cleaning & Laundry, Local Services, Laundr...   \n",
       "\n",
       "                                               hours               review_id  \\\n",
       "0  {'Monday': '7:0-19:0', 'Tuesday': '7:0-19:0', ...  9bMxu3-RCv0ncYnNNNkbWg   \n",
       "1  {'Monday': '7:0-19:0', 'Tuesday': '7:0-19:0', ...  b-B3ycJZmOTP5EdWTwCsMA   \n",
       "2  {'Monday': '7:0-19:0', 'Tuesday': '7:0-19:0', ...  MaIIb4Er_LuqN3zSSdA06w   \n",
       "3  {'Monday': '7:0-19:0', 'Tuesday': '7:0-19:0', ...  RALKX860sppIq-oxsSFhqQ   \n",
       "4  {'Monday': '7:0-19:0', 'Tuesday': '7:0-19:0', ...  zmueCMXpF3v2Gz2Szxq01g   \n",
       "\n",
       "                  user_id review_stars useful  funny  cool  \\\n",
       "0  IMguz1Z9dp8HG0UfeLEdEg            5      3      0     1   \n",
       "1  _TAVpa1Y2_5KZ5wWYeX_6g            1      1      0     0   \n",
       "2  45R6BBybzwDuJaL08d1myQ            5      1      0     0   \n",
       "3  7iziCsP2MkHMmckpYVPSDg            1      4      1     1   \n",
       "4  Yg08tRMxm0eaL-rXyNIAHw            5      3      1     1   \n",
       "\n",
       "                                                text                date  \n",
       "0  I've been coming to this dry cleaner for almos... 2016-06-23 05:50:54  \n",
       "1  They lost 2 pairs of my suitpants and told me ... 2011-10-27 23:35:10  \n",
       "2  I have been going to this dry cleaning since I... 2013-07-13 03:25:04  \n",
       "3  I've only had my dry cleaning done here twice ... 2016-06-23 01:58:09  \n",
       "4  After reading the reviews of the cleaners clos... 2012-09-12 20:38:40  \n",
       "\n",
       "[5 rows x 22 columns]"
      ]
     },
     "execution_count": 11,
     "metadata": {},
     "output_type": "execute_result"
    }
   ],
   "source": [
    "# df is our new dataset with data about restaurants and their corresponding reviews\n",
    "df.head(5)"
   ]
  },
  {
   "cell_type": "code",
   "execution_count": 12,
   "metadata": {},
   "outputs": [
    {
     "data": {
      "text/plain": [
       "(2090009, 22)"
      ]
     },
     "execution_count": 12,
     "metadata": {},
     "output_type": "execute_result"
    }
   ],
   "source": [
    "# Checking number of rows our dataframe has\n",
    "df.shape"
   ]
  },
  {
   "cell_type": "code",
   "execution_count": 13,
   "metadata": {},
   "outputs": [],
   "source": [
    "# We can drop reviews which did not recieve any useful votes, to restrict our data further\n",
    "df = df.loc[df['useful'] > 0]"
   ]
  },
  {
   "cell_type": "code",
   "execution_count": 1,
   "metadata": {},
   "outputs": [],
   "source": [
    "# We will now restrict to a certain set of reviews, based on review length, we will look for the length which is most common"
   ]
  },
  {
   "cell_type": "code",
   "execution_count": 14,
   "metadata": {},
   "outputs": [],
   "source": [
    "# Create columns to store lenght of reviews written\n",
    "df['reviewlen'] = df['text'].str.len()"
   ]
  },
  {
   "cell_type": "code",
   "execution_count": 15,
   "metadata": {},
   "outputs": [
    {
     "data": {
      "image/png": "[encoded data removed]",
      "text/plain": [
       "<Figure size 432x288 with 1 Axes>"
      ]
     },
     "metadata": {
      "needs_background": "light"
     },
     "output_type": "display_data"
    }
   ],
   "source": [
    "# Visualizing distribution of lenght of reviews\n",
    "sns.kdeplot(df['reviewlen'])\n",
    "plt.title('frequence of length of reviews')\n",
    "plt.xlabel(\"lenght of review\")\n",
    "plt.ylabel(\"proportion of reviews \");"
   ]
  },
  {
   "cell_type": "code",
   "execution_count": 16,
   "metadata": {},
   "outputs": [],
   "source": [
    "# We can restrict our analysis to reviews with length less than 1000\n",
    "df = df.loc[df['reviewlen'] < 1000]"
   ]
  },
  {
   "cell_type": "code",
   "execution_count": 17,
   "metadata": {},
   "outputs": [
    {
     "data": {
      "text/plain": [
       "(679949, 23)"
      ]
     },
     "execution_count": 17,
     "metadata": {},
     "output_type": "execute_result"
    }
   ],
   "source": [
    "df.shape"
   ]
  },
  {
   "cell_type": "code",
   "execution_count": 18,
   "metadata": {},
   "outputs": [],
   "source": [
    "# Save data to CSV file for future use\n",
    "csv_name = \"review_and_business_data_cleaned_withdate.csv\"\n",
    "df.to_csv(csv_name, index=False)"
   ]
  },
  {
   "cell_type": "code",
   "execution_count": 2,
   "metadata": {},
   "outputs": [],
   "source": [
    "# Now we process the user-json file\n",
    "# Importing user-json file in chunks, because of the super large size\n",
    "user_json_path = 'yelp_dataset/yelp_academic_dataset_user.json'\n",
    "size = 100000\n",
    "user = pd.read_json(user_json_path, lines=True,chunksize=size)"
   ]
  },
  {
   "cell_type": "code",
   "execution_count": 3,
   "metadata": {},
   "outputs": [],
   "source": [
    "# The following cell was used in a separate notebook to extract unique users, and saved in a csv\n",
    "# List of users who made to our refined dataset\n",
    "# users_in_filtered_dataset = df[\"user_id\"].unique()"
   ]
  },
  {
   "cell_type": "code",
   "execution_count": 5,
   "metadata": {},
   "outputs": [],
   "source": [
    "unique_user = pd.read_csv('unique_users.csv')"
   ]
  },
  {
   "cell_type": "code",
   "execution_count": 6,
   "metadata": {},
   "outputs": [],
   "source": [
    "users_in_filtered_dataset = unique_user['unique_user']"
   ]
  },
  {
   "cell_type": "code",
   "execution_count": 7,
   "metadata": {},
   "outputs": [
    {
     "data": {
      "text/plain": [
       "(285258,)"
      ]
     },
     "execution_count": 7,
     "metadata": {},
     "output_type": "execute_result"
    }
   ],
   "source": [
    "# Number of unique users\n",
    "users_in_filtered_dataset.shape"
   ]
  },
  {
   "cell_type": "code",
   "execution_count": 3,
   "metadata": {},
   "outputs": [],
   "source": [
    "# We are ONLY importing users from the user json file, \n",
    "# whose reviews made it to our above shortlisted dataset of businesses"
   ]
  },
  {
   "cell_type": "code",
   "execution_count": 8,
   "metadata": {},
   "outputs": [
    {
     "name": "stdout",
     "output_type": "stream",
     "text": [
      "Iteration successful\n",
      "Iteration successful\n",
      "Iteration successful\n",
      "Iteration successful\n",
      "Iteration successful\n",
      "Iteration successful\n",
      "Iteration successful\n",
      "Iteration successful\n",
      "Iteration successful\n",
      "Iteration successful\n",
      "Iteration successful\n",
      "Iteration successful\n",
      "Iteration successful\n",
      "Iteration successful\n",
      "Iteration successful\n",
      "Iteration successful\n",
      "Iteration successful\n",
      "Iteration successful\n",
      "Iteration successful\n",
      "Iteration successful\n"
     ]
    }
   ],
   "source": [
    "chunk_list_user = []\n",
    "for chunk_user in user:\n",
    "\n",
    "    # Filter out users that made to our refined dataset\n",
    "    chunk_user1 = chunk_user[chunk_user['user_id'].isin(users_in_filtered_dataset)]\n",
    "    # Show feedback on progres\n",
    "    print(\"Iteration successful\")\n",
    "    chunk_list_user.append(chunk_user1)\n",
    "\n",
    "# After trimming down the review file, concatenate all relevant data back to one dataframe\n",
    "user_df = pd.concat(chunk_list_user, ignore_index=True, join='outer', axis=0)"
   ]
  },
  {
   "cell_type": "code",
   "execution_count": 12,
   "metadata": {},
   "outputs": [],
   "source": [
    "# Storing the user_df into a csv for future use. user_df is the data from the user json file\n",
    "user_df.head()\n",
    "\n",
    "user_df.to_csv('unique_user_df.csv', index=False)"
   ]
  }
 ],
 "metadata": {
  "kernelspec": {
   "display_name": "Python 3",
   "language": "python",
   "name": "python3"
  },
  "language_info": {
   "codemirror_mode": {
    "name": "ipython",
    "version": 3
   },
   "file_extension": ".py",
   "mimetype": "text/x-python",
   "name": "python",
   "nbconvert_exporter": "python",
   "pygments_lexer": "ipython3",
   "version": "3.7.6"
  }
 },
 "nbformat": 4,
 "nbformat_minor": 4
}
